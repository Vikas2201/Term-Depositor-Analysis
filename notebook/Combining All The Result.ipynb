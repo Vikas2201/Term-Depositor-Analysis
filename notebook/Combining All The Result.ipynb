{
 "cells": [
  {
   "cell_type": "code",
   "execution_count": 1,
   "metadata": {},
   "outputs": [],
   "source": [
    "import pandas as pd\n",
    "import numpy as np"
   ]
  },
  {
   "cell_type": "code",
   "execution_count": 2,
   "metadata": {},
   "outputs": [
    {
     "data": {
      "text/html": [
       "<div>\n",
       "<style scoped>\n",
       "    .dataframe tbody tr th:only-of-type {\n",
       "        vertical-align: middle;\n",
       "    }\n",
       "\n",
       "    .dataframe tbody tr th {\n",
       "        vertical-align: top;\n",
       "    }\n",
       "\n",
       "    .dataframe thead th {\n",
       "        text-align: right;\n",
       "    }\n",
       "</style>\n",
       "<table border=\"1\" class=\"dataframe\">\n",
       "  <thead>\n",
       "    <tr style=\"text-align: right;\">\n",
       "      <th></th>\n",
       "      <th>customer_id</th>\n",
       "      <th>customer_age</th>\n",
       "      <th>job_type</th>\n",
       "      <th>balance</th>\n",
       "      <th>having_loan</th>\n",
       "      <th>last_contact_duration</th>\n",
       "      <th>prev_campaign_outcome</th>\n",
       "      <th>num_contacts_in_campaign</th>\n",
       "      <th>num_contacts_prev_campaign</th>\n",
       "      <th>Predication</th>\n",
       "    </tr>\n",
       "  </thead>\n",
       "  <tbody>\n",
       "    <tr>\n",
       "      <th>0</th>\n",
       "      <td>id_1895</td>\n",
       "      <td>33.0</td>\n",
       "      <td>9</td>\n",
       "      <td>804.0</td>\n",
       "      <td>0</td>\n",
       "      <td>826</td>\n",
       "      <td>2</td>\n",
       "      <td>3.0</td>\n",
       "      <td>1</td>\n",
       "      <td>1</td>\n",
       "    </tr>\n",
       "    <tr>\n",
       "      <th>1</th>\n",
       "      <td>id_33092</td>\n",
       "      <td>46.0</td>\n",
       "      <td>11</td>\n",
       "      <td>637.0</td>\n",
       "      <td>1</td>\n",
       "      <td>955</td>\n",
       "      <td>2</td>\n",
       "      <td>1.0</td>\n",
       "      <td>4</td>\n",
       "      <td>1</td>\n",
       "    </tr>\n",
       "    <tr>\n",
       "      <th>2</th>\n",
       "      <td>id_45113</td>\n",
       "      <td>62.0</td>\n",
       "      <td>7</td>\n",
       "      <td>5267.0</td>\n",
       "      <td>0</td>\n",
       "      <td>984</td>\n",
       "      <td>0</td>\n",
       "      <td>3.0</td>\n",
       "      <td>0</td>\n",
       "      <td>1</td>\n",
       "    </tr>\n",
       "    <tr>\n",
       "      <th>3</th>\n",
       "      <td>id_12016</td>\n",
       "      <td>37.0</td>\n",
       "      <td>10</td>\n",
       "      <td>2645.0</td>\n",
       "      <td>0</td>\n",
       "      <td>740</td>\n",
       "      <td>2</td>\n",
       "      <td>1.0</td>\n",
       "      <td>1</td>\n",
       "      <td>1</td>\n",
       "    </tr>\n",
       "    <tr>\n",
       "      <th>4</th>\n",
       "      <td>id_6592</td>\n",
       "      <td>29.0</td>\n",
       "      <td>8</td>\n",
       "      <td>339.0</td>\n",
       "      <td>0</td>\n",
       "      <td>689</td>\n",
       "      <td>2</td>\n",
       "      <td>1.0</td>\n",
       "      <td>1</td>\n",
       "      <td>1</td>\n",
       "    </tr>\n",
       "  </tbody>\n",
       "</table>\n",
       "</div>"
      ],
      "text/plain": [
       "  customer_id  customer_age  job_type  balance  having_loan  \\\n",
       "0     id_1895          33.0         9    804.0            0   \n",
       "1    id_33092          46.0        11    637.0            1   \n",
       "2    id_45113          62.0         7   5267.0            0   \n",
       "3    id_12016          37.0        10   2645.0            0   \n",
       "4     id_6592          29.0         8    339.0            0   \n",
       "\n",
       "   last_contact_duration  prev_campaign_outcome  num_contacts_in_campaign  \\\n",
       "0                    826                      2                       3.0   \n",
       "1                    955                      2                       1.0   \n",
       "2                    984                      0                       3.0   \n",
       "3                    740                      2                       1.0   \n",
       "4                    689                      2                       1.0   \n",
       "\n",
       "   num_contacts_prev_campaign  Predication  \n",
       "0                           1            1  \n",
       "1                           4            1  \n",
       "2                           0            1  \n",
       "3                           1            1  \n",
       "4                           1            1  "
      ]
     },
     "execution_count": 2,
     "metadata": {},
     "output_type": "execute_result"
    }
   ],
   "source": [
    "data_1 = pd.read_csv(\"data_1.csv\")\n",
    "data_1 = data_1.drop(columns = [\"Unnamed: 0\"])\n",
    "data_1.head()"
   ]
  },
  {
   "cell_type": "code",
   "execution_count": 3,
   "metadata": {},
   "outputs": [
    {
     "data": {
      "text/plain": [
       "(727, 10)"
      ]
     },
     "execution_count": 3,
     "metadata": {},
     "output_type": "execute_result"
    }
   ],
   "source": [
    "data_1.shape"
   ]
  },
  {
   "cell_type": "code",
   "execution_count": 4,
   "metadata": {},
   "outputs": [
    {
     "data": {
      "text/plain": [
       "(745, 10)"
      ]
     },
     "execution_count": 4,
     "metadata": {},
     "output_type": "execute_result"
    }
   ],
   "source": [
    "data_2 = pd.read_csv(\"lk_data.csv\")\n",
    "data_2 = data_2.drop(columns = [\"Unnamed: 0\"])\n",
    "data_2.shape"
   ]
  },
  {
   "cell_type": "code",
   "execution_count": 5,
   "metadata": {},
   "outputs": [
    {
     "data": {
      "text/plain": [
       "(947,)"
      ]
     },
     "execution_count": 5,
     "metadata": {},
     "output_type": "execute_result"
    }
   ],
   "source": [
    "df = pd.concat([data_1[\"customer_id\"],data_2[\"customer_id\"]],ignore_index = True).drop_duplicates()\n",
    "df.shape"
   ]
  },
  {
   "cell_type": "code",
   "execution_count": 16,
   "metadata": {},
   "outputs": [
    {
     "data": {
      "text/plain": [
       "(5499,)"
      ]
     },
     "execution_count": 16,
     "metadata": {},
     "output_type": "execute_result"
    }
   ],
   "source": [
    "df = pd.concat([data_1[\"customer_id\"],data_2[\"customer_id\"],df6[\"customer_id\"]],ignore_index = True).drop_duplicates()\n",
    "df.shape"
   ]
  },
  {
   "cell_type": "code",
   "execution_count": 21,
   "metadata": {},
   "outputs": [
    {
     "data": {
      "text/html": [
       "<div>\n",
       "<style scoped>\n",
       "    .dataframe tbody tr th:only-of-type {\n",
       "        vertical-align: middle;\n",
       "    }\n",
       "\n",
       "    .dataframe tbody tr th {\n",
       "        vertical-align: top;\n",
       "    }\n",
       "\n",
       "    .dataframe thead th {\n",
       "        text-align: right;\n",
       "    }\n",
       "</style>\n",
       "<table border=\"1\" class=\"dataframe\">\n",
       "  <thead>\n",
       "    <tr style=\"text-align: right;\">\n",
       "      <th></th>\n",
       "      <th>Unnamed: 0</th>\n",
       "      <th>customer_id</th>\n",
       "      <th>customer_age</th>\n",
       "      <th>job_type</th>\n",
       "      <th>balance</th>\n",
       "      <th>having_loan</th>\n",
       "      <th>last_contact_duration</th>\n",
       "      <th>prev_campaign_outcome</th>\n",
       "      <th>num_contacts_in_campaign</th>\n",
       "      <th>num_contacts_prev_campaign</th>\n",
       "      <th>Predication</th>\n",
       "    </tr>\n",
       "  </thead>\n",
       "  <tbody>\n",
       "    <tr>\n",
       "      <th>0</th>\n",
       "      <td>1</td>\n",
       "      <td>id_10523</td>\n",
       "      <td>46.0</td>\n",
       "      <td>9</td>\n",
       "      <td>656.000000</td>\n",
       "      <td>0</td>\n",
       "      <td>990</td>\n",
       "      <td>0</td>\n",
       "      <td>4.0</td>\n",
       "      <td>0</td>\n",
       "      <td>1</td>\n",
       "    </tr>\n",
       "    <tr>\n",
       "      <th>1</th>\n",
       "      <td>3</td>\n",
       "      <td>id_12681</td>\n",
       "      <td>65.0</td>\n",
       "      <td>7</td>\n",
       "      <td>2880.000000</td>\n",
       "      <td>0</td>\n",
       "      <td>913</td>\n",
       "      <td>0</td>\n",
       "      <td>1.0</td>\n",
       "      <td>0</td>\n",
       "      <td>1</td>\n",
       "    </tr>\n",
       "    <tr>\n",
       "      <th>2</th>\n",
       "      <td>4</td>\n",
       "      <td>id_2153</td>\n",
       "      <td>52.0</td>\n",
       "      <td>11</td>\n",
       "      <td>1779.000000</td>\n",
       "      <td>0</td>\n",
       "      <td>703</td>\n",
       "      <td>1</td>\n",
       "      <td>3.0</td>\n",
       "      <td>1</td>\n",
       "      <td>1</td>\n",
       "    </tr>\n",
       "    <tr>\n",
       "      <th>3</th>\n",
       "      <td>7</td>\n",
       "      <td>id_6701</td>\n",
       "      <td>45.0</td>\n",
       "      <td>5</td>\n",
       "      <td>10390.000000</td>\n",
       "      <td>1</td>\n",
       "      <td>702</td>\n",
       "      <td>0</td>\n",
       "      <td>1.0</td>\n",
       "      <td>0</td>\n",
       "      <td>1</td>\n",
       "    </tr>\n",
       "    <tr>\n",
       "      <th>4</th>\n",
       "      <td>9</td>\n",
       "      <td>id_13459</td>\n",
       "      <td>30.0</td>\n",
       "      <td>2</td>\n",
       "      <td>580.000000</td>\n",
       "      <td>1</td>\n",
       "      <td>740</td>\n",
       "      <td>1</td>\n",
       "      <td>1.0</td>\n",
       "      <td>6</td>\n",
       "      <td>1</td>\n",
       "    </tr>\n",
       "    <tr>\n",
       "      <th>...</th>\n",
       "      <td>...</td>\n",
       "      <td>...</td>\n",
       "      <td>...</td>\n",
       "      <td>...</td>\n",
       "      <td>...</td>\n",
       "      <td>...</td>\n",
       "      <td>...</td>\n",
       "      <td>...</td>\n",
       "      <td>...</td>\n",
       "      <td>...</td>\n",
       "      <td>...</td>\n",
       "    </tr>\n",
       "    <tr>\n",
       "      <th>5413</th>\n",
       "      <td>7762</td>\n",
       "      <td>id_29917</td>\n",
       "      <td>52.0</td>\n",
       "      <td>9</td>\n",
       "      <td>1764.000000</td>\n",
       "      <td>1</td>\n",
       "      <td>863</td>\n",
       "      <td>0</td>\n",
       "      <td>2.0</td>\n",
       "      <td>0</td>\n",
       "      <td>1</td>\n",
       "    </tr>\n",
       "    <tr>\n",
       "      <th>5414</th>\n",
       "      <td>7763</td>\n",
       "      <td>id_9275</td>\n",
       "      <td>50.0</td>\n",
       "      <td>10</td>\n",
       "      <td>401.000000</td>\n",
       "      <td>0</td>\n",
       "      <td>843</td>\n",
       "      <td>1</td>\n",
       "      <td>1.0</td>\n",
       "      <td>6</td>\n",
       "      <td>1</td>\n",
       "    </tr>\n",
       "    <tr>\n",
       "      <th>5415</th>\n",
       "      <td>7764</td>\n",
       "      <td>id_16678</td>\n",
       "      <td>56.0</td>\n",
       "      <td>5</td>\n",
       "      <td>227.000000</td>\n",
       "      <td>1</td>\n",
       "      <td>705</td>\n",
       "      <td>0</td>\n",
       "      <td>1.0</td>\n",
       "      <td>0</td>\n",
       "      <td>1</td>\n",
       "    </tr>\n",
       "    <tr>\n",
       "      <th>5416</th>\n",
       "      <td>7765</td>\n",
       "      <td>id_26369</td>\n",
       "      <td>28.0</td>\n",
       "      <td>6</td>\n",
       "      <td>1380.914454</td>\n",
       "      <td>1</td>\n",
       "      <td>879</td>\n",
       "      <td>0</td>\n",
       "      <td>1.0</td>\n",
       "      <td>0</td>\n",
       "      <td>1</td>\n",
       "    </tr>\n",
       "    <tr>\n",
       "      <th>5417</th>\n",
       "      <td>7766</td>\n",
       "      <td>id_31483</td>\n",
       "      <td>26.0</td>\n",
       "      <td>9</td>\n",
       "      <td>459.000000</td>\n",
       "      <td>0</td>\n",
       "      <td>997</td>\n",
       "      <td>3</td>\n",
       "      <td>1.0</td>\n",
       "      <td>8</td>\n",
       "      <td>1</td>\n",
       "    </tr>\n",
       "  </tbody>\n",
       "</table>\n",
       "<p>5418 rows × 11 columns</p>\n",
       "</div>"
      ],
      "text/plain": [
       "      Unnamed: 0 customer_id  customer_age  job_type       balance  \\\n",
       "0              1    id_10523          46.0         9    656.000000   \n",
       "1              3    id_12681          65.0         7   2880.000000   \n",
       "2              4     id_2153          52.0        11   1779.000000   \n",
       "3              7     id_6701          45.0         5  10390.000000   \n",
       "4              9    id_13459          30.0         2    580.000000   \n",
       "...          ...         ...           ...       ...           ...   \n",
       "5413        7762    id_29917          52.0         9   1764.000000   \n",
       "5414        7763     id_9275          50.0        10    401.000000   \n",
       "5415        7764    id_16678          56.0         5    227.000000   \n",
       "5416        7765    id_26369          28.0         6   1380.914454   \n",
       "5417        7766    id_31483          26.0         9    459.000000   \n",
       "\n",
       "      having_loan  last_contact_duration  prev_campaign_outcome  \\\n",
       "0               0                    990                      0   \n",
       "1               0                    913                      0   \n",
       "2               0                    703                      1   \n",
       "3               1                    702                      0   \n",
       "4               1                    740                      1   \n",
       "...           ...                    ...                    ...   \n",
       "5413            1                    863                      0   \n",
       "5414            0                    843                      1   \n",
       "5415            1                    705                      0   \n",
       "5416            1                    879                      0   \n",
       "5417            0                    997                      3   \n",
       "\n",
       "      num_contacts_in_campaign  num_contacts_prev_campaign  Predication  \n",
       "0                          4.0                           0            1  \n",
       "1                          1.0                           0            1  \n",
       "2                          3.0                           1            1  \n",
       "3                          1.0                           0            1  \n",
       "4                          1.0                           6            1  \n",
       "...                        ...                         ...          ...  \n",
       "5413                       2.0                           0            1  \n",
       "5414                       1.0                           6            1  \n",
       "5415                       1.0                           0            1  \n",
       "5416                       1.0                           0            1  \n",
       "5417                       1.0                           8            1  \n",
       "\n",
       "[5418 rows x 11 columns]"
      ]
     },
     "execution_count": 21,
     "metadata": {},
     "output_type": "execute_result"
    }
   ],
   "source": [
    "df6 = pd.read_csv(\"data_2.csv\")\n",
    "df6"
   ]
  },
  {
   "cell_type": "code",
   "execution_count": 17,
   "metadata": {},
   "outputs": [],
   "source": [
    "df = df[:1000]"
   ]
  },
  {
   "cell_type": "code",
   "execution_count": 20,
   "metadata": {},
   "outputs": [
    {
     "data": {
      "text/plain": [
       "0        id_1895\n",
       "1       id_33092\n",
       "2       id_45113\n",
       "3       id_12016\n",
       "4        id_6592\n",
       "          ...   \n",
       "1610    id_23162\n",
       "1612    id_33375\n",
       "1613    id_10535\n",
       "1614    id_15172\n",
       "1615    id_21590\n",
       "Name: customer_id, Length: 1000, dtype: object"
      ]
     },
     "execution_count": 20,
     "metadata": {},
     "output_type": "execute_result"
    }
   ],
   "source": [
    "df"
   ]
  },
  {
   "cell_type": "code",
   "execution_count": 22,
   "metadata": {},
   "outputs": [],
   "source": [
    "df.to_csv(\"top_1000_data.csv\")"
   ]
  },
  {
   "cell_type": "code",
   "execution_count": null,
   "metadata": {},
   "outputs": [],
   "source": []
  }
 ],
 "metadata": {
  "kernelspec": {
   "display_name": "Python 3",
   "language": "python",
   "name": "python3"
  },
  "language_info": {
   "codemirror_mode": {
    "name": "ipython",
    "version": 3
   },
   "file_extension": ".py",
   "mimetype": "text/x-python",
   "name": "python",
   "nbconvert_exporter": "python",
   "pygments_lexer": "ipython3",
   "version": "3.8.3"
  }
 },
 "nbformat": 4,
 "nbformat_minor": 4
}
